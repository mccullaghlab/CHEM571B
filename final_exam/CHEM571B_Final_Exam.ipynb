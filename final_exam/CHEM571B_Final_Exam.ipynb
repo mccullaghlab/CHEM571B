{
 "cells": [
  {
   "cell_type": "markdown",
   "metadata": {},
   "source": [
    "# CHEM 571B Fall 2018 Exam\n",
    "\n",
    "1. Demonstrate that for symmetric diatomic two-electron systems, such as the H$_{2}$ molecule, in a minimal basis (e.g. STO-3G) the optimal basis coefficient matrix in the Hartree-Fock procedure is given as\n",
    "$\\mathbf{C} = \\begin{bmatrix} (2(1+S_{12})^{-0.5} & (2(1-S_{12})^{-0.5} \\\\ (2(1+S_{12})^{-0.5} & -(2(1+S_{12})^{-0.5}\\end{bmatrix}$\n",
    "where $S_{12} = \\langle \\phi_1|\\phi_2 \\rangle$ and $\\phi_i$ is the $i$th atomic basis function.\n",
    "\n",
    "2. Show that the full CI Hamiltonian matrix for a H$_2$ system in a minimal basis is given as\n",
    "$\\mathbf{H_{CI}} = \\begin{bmatrix} 2h_{11} + J_{11} & K_{12} \\\\ K_{12} & 2h_{22} + J_{22}\\end{bmatrix}$, where $h_{11} = \\langle \\psi_1|h(1)|\\psi_1\\rangle$, $J_{ii} = \\langle \\psi_i\\psi_i|r_{12}^{-1}|\\psi_i\\psi_i \\rangle$, $K_{12} = \\langle \\psi_1\\psi_2|r_{12}^{-1}|\\psi_2\\psi_1\\rangle$ and $\\psi_i$ is the $i$th molecular spacial orbital.\n",
    "\n",
    "3. Compute the dissocation curve for the Li$_{2}$ molecule in a minimal STO-3G basis at the following levels of theory\n",
    "\n",
    "    a. rHF\n",
    "    \n",
    "    b. Configuration Interaction in which you only consider two determinants: the ground-state and the double excited state $\\sigma^2 \\rightarrow \\sigma^{*2}$.\n",
    "    \n",
    "    c. What is the minimum energy bond distance?\n",
    "    \n",
    "    d. What is the nature of the bond?\n",
    "    \n",
    "    e. Plot the electron density as a function of position along the bond vector."
   ]
  },
  {
   "cell_type": "code",
   "execution_count": 1,
   "metadata": {},
   "outputs": [],
   "source": [
    "# The following piece of code may be useful for problem 3\n",
    "\n",
    "# orthogonalize basis\n",
    "def orthogonalize_basis(S):\n",
    "    M = S.shape[1]\n",
    "    e, v = np.linalg.eig(S)\n",
    "    s = np.diag(e**-0.5)\n",
    "    X = np.dot(v,s)\n",
    "    return X"
   ]
  },
  {
   "cell_type": "code",
   "execution_count": null,
   "metadata": {},
   "outputs": [],
   "source": []
  }
 ],
 "metadata": {
  "kernelspec": {
   "display_name": "Python 3",
   "language": "python",
   "name": "python3"
  },
  "language_info": {
   "codemirror_mode": {
    "name": "ipython",
    "version": 2
   },
   "file_extension": ".py",
   "mimetype": "text/x-python",
   "name": "python",
   "nbconvert_exporter": "python",
   "pygments_lexer": "ipython2",
   "version": "2.7.14"
  }
 },
 "nbformat": 4,
 "nbformat_minor": 2
}
